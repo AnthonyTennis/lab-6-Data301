{
  "nbformat": 4,
  "nbformat_minor": 0,
  "metadata": {
    "colab": {
      "provenance": [],
      "include_colab_link": true
    },
    "kernelspec": {
      "name": "python3",
      "display_name": "Python 3"
    }
  },
  "cells": [
    {
      "cell_type": "markdown",
      "metadata": {
        "id": "view-in-github",
        "colab_type": "text"
      },
      "source": [
        "<a href=\"https://colab.research.google.com/github/AnthonyTennis/lab-6-Data301/blob/main/Copy_of_DATA_301_Lab_6B_Anthony_Teciorowski.ipynb\" target=\"_parent\"><img src=\"https://colab.research.google.com/assets/colab-badge.svg\" alt=\"Open In Colab\"/></a>"
      ]
    },
    {
      "cell_type": "markdown",
      "metadata": {
        "id": "Wv2CguEzescV"
      },
      "source": [
        "# Bing Maps API\n",
        "\n",
        "In this part of the lab, you will join the CityBikes data from the previous part of the lab with additional data that you will query from the Bing Maps API.\n",
        "\n",
        "First, you will need to register for a Bing Maps Key. Follow the instructions [here](https://docs.microsoft.com/en-us/bingmaps/getting-started/bing-maps-dev-center-help/getting-a-bing-maps-key). You should be able to sign in with your Cal Poly account. When you get to Step 4, select:\n",
        "\n",
        "- Key type: Basic\n",
        "- Application type: Dev/Test\n",
        "\n",
        "You will be able to make 125000 free requests with the resulting API key. This should be more than enough to complete this assignment.\n",
        "\n",
        "We will be working with the [REST services in the Bing Maps API](https://docs.microsoft.com/en-us/bingmaps/rest-services/). Click on the link for a complete documentation of the features."
      ]
    },
    {
      "cell_type": "code",
      "source": [
        "apikey = \"ApQNieBdaaOD48C8pTRuIGyuyNIX63Sv6_rSJHo5e_ilahNOxA0tVyJ5uMfEY2Na\""
      ],
      "metadata": {
        "id": "RjF2nAaMb8eB"
      },
      "execution_count": 56,
      "outputs": []
    },
    {
      "cell_type": "markdown",
      "metadata": {
        "id": "vhodHHWtu8Xb"
      },
      "source": [
        "## Question 1\n",
        "\n",
        "Read in the `DataFrame` of bike stations in the United States from Part A of this lab. Restrict to the stations in the \"Bay Wheels\" network (with network ID \"bay-wheels\").\n",
        "\n",
        "How many of these stations are in the city/county of San Francisco? \n",
        "\n",
        "(_Hint:_ Use the [Locations API](https://docs.microsoft.com/en-us/bingmaps/rest-services/locations/) to get the address associated with each latitude and longitude coordinate.)"
      ]
    },
    {
      "cell_type": "code",
      "source": [
        "import requests\n",
        "import pandas as pd\n",
        "from google.colab import drive\n",
        "import os\n",
        "\n",
        "drive.mount(\"/content/drive\", force_remount=True)\n",
        "\n",
        "# Read in the DataFrame of bike stations in the United States from Part A\n",
        "stations_df = pd.read_csv(\"drive/MyDrive/stations_data.csv\")\n",
        "# Restrict to the stations in the \"Bay Wheels\" network\n",
        "bay_wheels_df = stations_df[stations_df[\"network_name\"] == \"Bay Wheels\"]\n",
        "\n",
        "# Use the Locations API to reverse geocode each station and obtain the associated address\n",
        "addresses = []\n",
        "for index, row in bay_wheels_df.iterrows():\n",
        "    latitude = row[\"latitude\"]\n",
        "    longitude = row[\"longitude\"]\n",
        "    response = requests.get(f\"https://dev.virtualearth.net/REST/v1/Locations/{latitude},{longitude}\", params={\"key\": apikey})\n",
        "    data = response.json()\n",
        "    address = data[\"resourceSets\"][0][\"resources\"][0][\"address\"][\"formattedAddress\"]\n",
        "    addresses.append(address)"
      ],
      "metadata": {
        "colab": {
          "base_uri": "https://localhost:8080/"
        },
        "id": "3e5zsDkhdvGf",
        "outputId": "9b1d46a7-0c63-4d85-f0b7-6472b2951d12"
      },
      "execution_count": 57,
      "outputs": [
        {
          "output_type": "stream",
          "name": "stdout",
          "text": [
            "Mounted at /content/drive\n"
          ]
        }
      ]
    },
    {
      "cell_type": "code",
      "source": [
        "# Add the addresses to the DataFrame\n",
        "bay_wheels_df[\"address\"] = addresses\n",
        "\n",
        "# Filter the stations located in the city/county of San Francisco\n",
        "san_francisco_df = bay_wheels_df[bay_wheels_df[\"address\"].str.contains(\"San Francisco\")]\n",
        "\n",
        "# Print the number of stations in San Francisco\n",
        "print(f\"There are {len(san_francisco_df)} stations in San Francisco.\")\n"
      ],
      "metadata": {
        "id": "uKZiL5m_cLCv",
        "colab": {
          "base_uri": "https://localhost:8080/"
        },
        "outputId": "66b36645-c48f-405e-c803-f756b67c2966"
      },
      "execution_count": 58,
      "outputs": [
        {
          "output_type": "stream",
          "name": "stdout",
          "text": [
            "There are 293 stations in San Francisco.\n"
          ]
        },
        {
          "output_type": "stream",
          "name": "stderr",
          "text": [
            "<ipython-input-58-c367aeb81e2c>:2: SettingWithCopyWarning: \n",
            "A value is trying to be set on a copy of a slice from a DataFrame.\n",
            "Try using .loc[row_indexer,col_indexer] = value instead\n",
            "\n",
            "See the caveats in the documentation: https://pandas.pydata.org/pandas-docs/stable/user_guide/indexing.html#returning-a-view-versus-a-copy\n",
            "  bay_wheels_df[\"address\"] = addresses\n"
          ]
        }
      ]
    },
    {
      "cell_type": "markdown",
      "metadata": {
        "id": "c3N28ddcIpHt"
      },
      "source": [
        "## Question 2\n",
        "\n",
        "You want to go to Coit Tower. To save money, you decide to ride a \"Bay Wheels\" bike to the closest station and hail a cab from there to Coit Tower. What station should you bike to so that you are as close to Coit Tower as possible (as measured by driving distance)? Does your answer agree with the one that you obtained in Part A of this lab? If not, why does it differ?\n",
        "\n",
        "_Hints:_ \n",
        "- You should restrict your attention to bike stations that are in San Francisco, which you determined in Question 1. \n",
        "- Use the [Routes API](https://docs.microsoft.com/en-us/bingmaps/rest-services/routes/calculate-a-distance-matrix) to calculate a distance matrix between Coit Tower and the bike stations. \n",
        "- You can do this with just one call to the API. Because there are too many stations, it is impossible to specify all the locations in the URL. Instead, you should make a POST request (`requests.post`), passing in the parameters as a JSON object through the `json=` parameter of `requests.post`. Read the API documentation carefully to learn how to use the POST API."
      ]
    },
    {
      "cell_type": "code",
      "source": [
        "# Define the API endpoint\n",
        "url = \"https://dev.virtualearth.net/REST/v1/Routes/DistanceMatrix\"\n",
        "apikey = \"ApQNieBdaaOD48C8pTRuIGyuyNIX63Sv6_rSJHo5e_ilahNOxA0tVyJ5uMfEY2Na\"\n",
        "\n",
        "# Define the parameters for the API call\n",
        "params = {\n",
        "    # \"key\": apikey,\n",
        "    \"origins\": [{\n",
        "        \"latitude\": 37.802747, \n",
        "        \"longitude\": -122.405861\n",
        "    }],  # Coit Tower coordinates\n",
        "    \"travelMode\": \"driving\",\n",
        "    \"distanceUnit\": \"mi\",\n",
        "    \"destinations\": [{\"latitude\": row[0], \"longitude\": row[1]} for index, row in san_francisco_df[[\"latitude\", \"longitude\"]].iterrows()],\n",
        "}\n",
        "\n",
        "headers = {\n",
        "    \"Content-Type\": \"application/json\",\n",
        "    \"Authorization\": f\"Bearer {apikey}\"\n",
        "}\n",
        "\n",
        "# Make the API call\n",
        "response = requests.post(url, headers=headers, json=params)\n",
        "\n",
        "# Parse the API response\n",
        "response_data = response.json()\n",
        "print(params)\n",
        "print(response_data)\n"
      ],
      "metadata": {
        "colab": {
          "base_uri": "https://localhost:8080/"
        },
        "id": "LraNnURCkY6a",
        "outputId": "a0cc6f5c-cd06-40da-a2f7-5a940c49b1b6"
      },
      "execution_count": 81,
      "outputs": [
        {
          "output_type": "stream",
          "name": "stdout",
          "text": [
            "{'origins': [{'latitude': 37.802747, 'longitude': -122.405861}], 'travelMode': 'driving', 'distanceUnit': 'mi', 'destinations': [{'latitude': 37.7630152, 'longitude': -122.4264968}, {'latitude': 37.76704457969368, 'longitude': -122.39083349704742}, {'latitude': 37.7789994, 'longitude': -122.4368608}, {'latitude': 37.78383, 'longitude': -122.39887}, {'latitude': 37.7316566899845, 'longitude': -122.45112150907516}, {'latitude': 37.80477, 'longitude': -122.403234}, {'latitude': 37.771762110313176, 'longitude': -122.39843755960464}, {'latitude': 37.771058, 'longitude': -122.402717}, {'latitude': 37.772300631747626, 'longitude': -122.3930275440216}, {'latitude': 37.7662185, 'longitude': -122.4310597}, {'latitude': 37.7440667, 'longitude': -122.4214722}, {'latitude': 37.7472996, 'longitude': -122.4114029}, {'latitude': 37.7436839, 'longitude': -122.4268059}, {'latitude': 37.745738796183325, 'longitude': -122.42214024066924}, {'latitude': 37.7478584, 'longitude': -122.4249863}, {'latitude': 37.7552126, 'longitude': -122.4209752}, {'latitude': 37.7518194, 'longitude': -122.4266139}, {'latitude': 37.7524278, 'longitude': -122.4206278}, {'latitude': 37.7509004, 'longitude': -122.4274114}, {'latitude': 37.78729, 'longitude': -122.39438}, {'latitude': 37.7913, 'longitude': -122.399051}, {'latitude': 37.7824046019341, 'longitude': -122.43944585323337}, {'latitude': 37.7873267660624, 'longitude': -122.41327822208405}, {'latitude': 37.75179164525661, 'longitude': -122.40521550178528}, {'latitude': 37.7700298, 'longitude': -122.4117258}, {'latitude': 37.796470691622936, 'longitude': -122.4168576300144}, {'latitude': 37.79728, 'longitude': -122.398436}, {'latitude': 37.795001, 'longitude': -122.39997}, {'latitude': 37.792251, 'longitude': -122.397086}, {'latitude': 37.788975, 'longitude': -122.403452}, {'latitude': 37.788299978150825, 'longitude': -122.40853071212769}, {'latitude': 37.7735069, 'longitude': -122.4160402}, {'latitude': 37.7737932060887, 'longitude': -122.42123901844025}, {'latitude': 37.7717933, 'longitude': -122.4337079}, {'latitude': 37.7730627, 'longitude': -122.4390777}, {'latitude': 37.799953, 'longitude': -122.398525}, {'latitude': 37.7614205, 'longitude': -122.4264353}, {'latitude': 37.7592103, 'longitude': -122.4213392}, {'latitude': 37.7605936, 'longitude': -122.4148171}, {'latitude': 37.7616343, 'longitude': -122.3906477}, {'latitude': 37.7567083, 'longitude': -122.421025}, {'latitude': 37.774017937683546, 'longitude': -122.4238085746765}, {'latitude': 37.7328128005294, 'longitude': -122.43414044380188}, {'latitude': 37.7719996, 'longitude': -122.3899698}, {'latitude': 37.78045005996349, 'longitude': -122.43194639682768}, {'latitude': 37.7317266935217, 'longitude': -122.3900556564331}, {'latitude': 37.78749210438603, 'longitude': -122.3982846736908}, {'latitude': 37.739853017984125, 'longitude': -122.38565549254416}, {'latitude': 37.779046658472055, 'longitude': -122.44729131460188}, {'latitude': 37.75823842417928, 'longitude': -122.4260938167572}, {'latitude': 37.73981271734901, 'longitude': -122.42552250623704}, {'latitude': 37.77452040113685, 'longitude': -122.4094493687153}, {'latitude': 37.7765126, 'longitude': -122.4113061}, {'latitude': 37.79857210846256, 'longitude': -122.40086898207666}, {'latitude': 37.755367132158526, 'longitude': -122.38879501819608}, {'latitude': 37.72694296622841, 'longitude': -122.40659952163696}, {'latitude': 37.771431362921085, 'longitude': -122.40578681230544}, {'latitude': 37.72927865173028, 'longitude': -122.39289611577988}, {'latitude': 37.78352083526095, 'longitude': -122.43115782737732}, {'latitude': 37.78487208436062, 'longitude': -122.40087568759915}, {'latitude': 37.776619, 'longitude': -122.417385}, {'latitude': 37.7770527, 'longitude': -122.4295585}, {'latitude': 37.77754677017323, 'longitude': -122.43327409029006}, {'latitude': 37.77341396997343, 'longitude': -122.427316904068}, {'latitude': 37.77610091264586, 'longitude': -122.4530929327011}, {'latitude': 37.780526, 'longitude': -122.390288}, {'latitude': 37.775946, 'longitude': -122.4377775}, {'latitude': 37.7774157, 'longitude': -122.4418376}, {'latitude': 37.7644783, 'longitude': -122.4025701}, {'latitude': 37.7610471, 'longitude': -122.4326417}, {'latitude': 37.799207926286, 'longitude': -122.43412166833876}, {'latitude': 37.7504343570623, 'longitude': -122.39044725894928}, {'latitude': 37.77523486860597, 'longitude': -122.39743709564208}, {'latitude': 37.7807601, 'longitude': -122.3949894}, {'latitude': 37.7810737, 'longitude': -122.4117382}, {'latitude': 37.7719511, 'longitude': -122.4537048}, {'latitude': 37.78227952975499, 'longitude': -122.40731298923492}, {'latitude': 37.77793367006746, 'longitude': -122.3969730734825}, {'latitude': 37.7963894, 'longitude': -122.3945855}, {'latitude': 37.72939320661727, 'longitude': -122.38653659820557}, {'latitude': 37.740321776391326, 'longitude': -122.3767840862274}, {'latitude': 37.78292608704408, 'longitude': -122.38792061805724}, {'latitude': 37.78146761537824, 'longitude': -122.45880603790285}, {'latitude': 37.73629587217104, 'longitude': -122.3899698257446}, {'latitude': 37.77948760924334, 'longitude': -122.4631418287754}, {'latitude': 37.73309280990925, 'longitude': -122.39097297191618}, {'latitude': 37.7737172, 'longitude': -122.4116467}, {'latitude': 37.77787007022392, 'longitude': -122.42295295000076}, {'latitude': 37.777609310293336, 'longitude': -122.4546217918396}, {'latitude': 37.788568914161615, 'longitude': -122.43540108203888}, {'latitude': 37.77122901793374, 'longitude': -122.40088641643524}, {'latitude': 37.78071988575564, 'longitude': -122.47610360383987}, {'latitude': 37.781130551698666, 'longitude': -122.44737446308136}, {'latitude': 37.778486986397496, 'longitude': -122.45864510536192}, {'latitude': 37.800496036682574, 'longitude': -122.41088703274724}, {'latitude': 37.781840715520495, 'longitude': -122.46763586997984}, {'latitude': 37.79080303242391, 'longitude': -122.43259012699126}, {'latitude': 37.77666378283064, 'longitude': -122.40790843963624}, {'latitude': 37.76578298679633, 'longitude': -122.45763659477234}, {'latitude': 37.7258897887525, 'longitude': -122.45244383811948}, {'latitude': 37.76343361023245, 'longitude': -122.46406316757202}, {'latitude': 37.76393402521409, 'longitude': -122.47065067291258}, {'latitude': 37.75770404149008, 'longitude': -122.39188492298126}, {'latitude': 37.78243851977672, 'longitude': -122.4653774499893}, {'latitude': 37.78068, 'longitude': -122.450012}, {'latitude': 37.804648, 'longitude': -122.402087}, {'latitude': 37.785111, 'longitude': -122.477667}, {'latitude': 37.781722, 'longitude': -122.492844}, {'latitude': 37.79762790889688, 'longitude': -122.423534989357}, {'latitude': 37.78657849953654, 'longitude': -122.45342284440996}, {'latitude': 37.756808, 'longitude': -122.405943}, {'latitude': 37.772954, 'longitude': -122.509071}, {'latitude': 37.7632417, 'longitude': -122.4306746}, {'latitude': 37.79801364395978, 'longitude': -122.40595042705534}, {'latitude': 37.72828159245282, 'longitude': -122.4506950378418}, {'latitude': 37.795392, 'longitude': -122.394203}, {'latitude': 37.78381270927812, 'longitude': -122.4345588684082}, {'latitude': 37.79416044174933, 'longitude': -122.42156758904456}, {'latitude': 37.781981687527214, 'longitude': -122.43576988577844}, {'latitude': 37.764285, 'longitude': -122.4318042}, {'latitude': 37.7670373, 'longitude': -122.4154425}, {'latitude': 37.774814, 'longitude': -122.418954}, {'latitude': 37.788032, 'longitude': -122.395626}, {'latitude': 37.783973, 'longitude': -122.442878}, {'latitude': 37.780949, 'longitude': -122.456303}, {'latitude': 37.77779057034257, 'longitude': -122.40643188357352}, {'latitude': 37.775522, 'longitude': -122.498498}, {'latitude': 37.734966, 'longitude': -122.429772}, {'latitude': 37.779673, 'longitude': -122.48797}, {'latitude': 37.78389935708493, 'longitude': -122.4084448814392}, {'latitude': 37.76707850458367, 'longitude': -122.40735858678818}, {'latitude': 37.76328094058097, 'longitude': -122.4073773622513}, {'latitude': 37.7604469, 'longitude': -122.410807}, {'latitude': 37.72238229348268, 'longitude': -122.44380980730055}, {'latitude': 37.73017446887281, 'longitude': -122.43289589881896}, {'latitude': 37.73890064447666, 'longitude': -122.38952457904814}, {'latitude': 37.766594, 'longitude': -122.398198}, {'latitude': 37.7802645, 'longitude': -122.4066435}, {'latitude': 37.775681, 'longitude': -122.494064}, {'latitude': 37.7819295, 'longitude': -122.4827855}, {'latitude': 37.8023, 'longitude': -122.4244135}, {'latitude': 37.765942, 'longitude': -122.449228}, {'latitude': 37.7864555, 'longitude': -122.399749}, {'latitude': 37.7646845, 'longitude': -122.4199265}, {'latitude': 37.763333, 'longitude': -122.4220555}, {'latitude': 37.7370395, 'longitude': -122.3944985}, {'latitude': 37.784419, 'longitude': -122.439361}, {'latitude': 37.740048, 'longitude': -122.3834355}, {'latitude': 37.7703135, 'longitude': -122.3912365}, {'latitude': 37.768227, 'longitude': -122.420359}, {'latitude': 37.7661, 'longitude': -122.4266585}, {'latitude': 37.75499463, 'longitude': -122.4258368}, {'latitude': 37.772219, 'longitude': -122.419976}, {'latitude': 37.750945, 'longitude': -122.4120835}, {'latitude': 37.7914015, 'longitude': -122.391038}, {'latitude': 37.787332, 'longitude': -122.3881105}, {'latitude': 37.8044325, 'longitude': -122.433523}, {'latitude': 37.774804, 'longitude': -122.446649}, {'latitude': 37.7603435, 'longitude': -122.387449}, {'latitude': 37.769263, 'longitude': -122.407054}, {'latitude': 37.8026635, 'longitude': -122.4360635}, {'latitude': 37.769244, 'longitude': -122.4269645}, {'latitude': 37.769818, 'longitude': -122.4291485}, {'latitude': 37.7895875, 'longitude': -122.440683}, {'latitude': 37.7866115, 'longitude': -122.4500525}, {'latitude': 37.753259, 'longitude': -122.4055145}, {'latitude': 37.7642245, 'longitude': -122.4673775}, {'latitude': 37.775328, 'longitude': -122.458104}, {'latitude': 37.795402, 'longitude': -122.4046885}, {'latitude': 37.7942465, 'longitude': -122.402855}, {'latitude': 37.794525, 'longitude': -122.3948805}, {'latitude': 37.77168, 'longitude': -122.422301}, {'latitude': 37.7762475, 'longitude': -122.4262025}, {'latitude': 37.772354, 'longitude': -122.4358575}, {'latitude': 37.759162, 'longitude': -122.4100475}, {'latitude': 37.7785885, 'longitude': -122.392553}, {'latitude': 37.7763115, 'longitude': -122.394495}, {'latitude': 37.730079, 'longitude': -122.3988045}, {'latitude': 37.785876, 'longitude': -122.4089225}, {'latitude': 37.764965, 'longitude': -122.3990255}, {'latitude': 37.764794, 'longitude': -122.3947595}, {'latitude': 37.7645435, 'longitude': -122.410349}, {'latitude': 37.759211, 'longitude': -122.4367975}, {'latitude': 37.7648385, 'longitude': -122.420141}, {'latitude': 37.7813455, 'longitude': -122.418409}, {'latitude': 37.780364, 'longitude': -122.4728095}, {'latitude': 37.7751205, 'longitude': -122.464998}, {'latitude': 37.773238, 'longitude': -122.399998}, {'latitude': 37.770519, 'longitude': -122.442326}, {'latitude': 37.72095, 'longitude': -122.478859}, {'latitude': 37.722001, 'longitude': -122.482735}, {'latitude': 37.731085, 'longitude': -122.476163}, {'latitude': 37.775211, 'longitude': -122.511208}, {'latitude': 37.71616094545787, 'longitude': -122.440105676651}, {'latitude': 37.783176, 'longitude': -122.393378}, {'latitude': 37.7799345, 'longitude': -122.480383}, {'latitude': 37.7851994, 'longitude': -122.3962173}, {'latitude': 37.7840775, 'longitude': -122.411926}, {'latitude': 37.765429, 'longitude': -122.42189}, {'latitude': 37.7476755, 'longitude': -122.420215}, {'latitude': 37.7896297, 'longitude': -122.3903352745212}, {'latitude': 37.78646613354221, 'longitude': -122.39871607983105}, {'latitude': 37.7896195, 'longitude': -122.400808}, {'latitude': 37.790296440371655, 'longitude': -122.3938751220703}, {'latitude': 37.8027671, 'longitude': -122.4132756}, {'latitude': 37.770282, 'longitude': -122.4154585}, {'latitude': 37.7692231, 'longitude': -122.43406206015258}, {'latitude': 37.7685449, 'longitude': -122.40423738710535}, {'latitude': 37.7807382, 'longitude': -122.4027281}, {'latitude': 37.7735622, 'longitude': -122.4425712}, {'latitude': 37.80717108096738, 'longitude': -122.40927904844284}, {'latitude': 37.797249, 'longitude': -122.427457}, {'latitude': 37.7587, 'longitude': -122.463774}, {'latitude': 37.806929, 'longitude': -122.411536}, {'latitude': 37.805442, 'longitude': -122.42313}, {'latitude': 37.760278, 'longitude': -122.419074}, {'latitude': 37.7228179, 'longitude': -122.4472364}, {'latitude': 37.7861375, 'longitude': -122.405234}, {'latitude': 37.78709359600294, 'longitude': -122.41670072078703}, {'latitude': 37.782574, 'longitude': -122.442203}, {'latitude': 37.8020552, 'longitude': -122.4017154}, {'latitude': 37.7822586, 'longitude': -122.3914651}, {'latitude': 37.7690102, 'longitude': -122.4222482622354}, {'latitude': 37.805376, 'longitude': -122.437261}, {'latitude': 37.7637348, 'longitude': -122.41552403555308}, {'latitude': 37.7811944, 'longitude': -122.3999862}, {'latitude': 37.7788325, 'longitude': -122.4181591}, {'latitude': 37.778799, 'longitude': -122.4159632}, {'latitude': 37.722601, 'longitude': -122.3922705}, {'latitude': 37.80028668467315, 'longitude': -122.42578603327274}, {'latitude': 37.792979854977766, 'longitude': -122.4233016371727}, {'latitude': 37.767256698389865, 'longitude': -122.40032913185132}, {'latitude': 37.7870025, 'longitude': -122.420053}, {'latitude': 37.7737524, 'longitude': -122.3914274}, {'latitude': 37.7971765, 'longitude': -122.4036272}, {'latitude': 37.764783, 'longitude': -122.3908972}, {'latitude': 37.791966, 'longitude': -122.429315}, {'latitude': 37.768357, 'longitude': -122.452862}, {'latitude': 37.7981975, 'longitude': -122.4474145}, {'latitude': 37.788048, 'longitude': -122.438812}, {'latitude': 37.768872, 'longitude': -122.3911087}, {'latitude': 37.750506, 'longitude': -122.4339496}, {'latitude': 37.7965927, 'longitude': -122.4556884}, {'latitude': 37.799676, 'longitude': -122.452599}, {'latitude': 37.72489268384971, 'longitude': -122.4432384967804}, {'latitude': 37.726266, 'longitude': -122.479462}, {'latitude': 37.725603, 'longitude': -122.476561}, {'latitude': 37.723426, 'longitude': -122.455102}, {'latitude': 37.7273951, 'longitude': -122.4354739}, {'latitude': 37.776598, 'longitude': -122.395282}, {'latitude': 37.7744791, 'longitude': -122.4139142}, {'latitude': 37.76352708498452, 'longitude': -122.47949242628238}, {'latitude': 37.76344319627197, 'longitude': -122.48355373749293}, {'latitude': 37.785359635574224, 'longitude': -122.4318015575409}, {'latitude': 37.77583378631289, 'longitude': -122.40269154310224}, {'latitude': 37.79917511263459, 'longitude': -122.44272915651892}, {'latitude': 37.7930958, 'longitude': -122.3988357}, {'latitude': 37.78970984996185, 'longitude': -122.40548387640956}, {'latitude': 37.758862, 'longitude': -122.412544}, {'latitude': 37.7638471, 'longitude': -122.4130036}, {'latitude': 37.7724385, 'longitude': -122.4039235}, {'latitude': 37.7717667, 'longitude': -122.3866885}, {'latitude': 37.73065542923656, 'longitude': -122.4443047517252}, {'latitude': 37.75016713801581, 'longitude': -122.38654196262358}, {'latitude': 37.803968, 'longitude': -122.455079}, {'latitude': 37.80175010159663, 'longitude': -122.4563633604339}, {'latitude': 37.725372, 'longitude': -122.393954}, {'latitude': 37.78899099599619, 'longitude': -122.3922550678253}, {'latitude': 37.76909488728109, 'longitude': -122.38633275032042}, {'latitude': 37.7974387, 'longitude': -122.4339891}, {'latitude': 37.775904, 'longitude': -122.39314}, {'latitude': 37.7892792, 'longitude': -122.4450687}, {'latitude': 37.771134537078765, 'longitude': -122.44534134864809}, {'latitude': 37.74207523594424, 'longitude': -122.38660231232642}, {'latitude': 37.7688065330825, 'longitude': -122.41349816322328}, {'latitude': 37.77984799974718, 'longitude': -122.42249965667725}, {'latitude': 37.785479, 'longitude': -122.419342}, {'latitude': 37.787963, 'longitude': -122.3918085}, {'latitude': 37.77599270441184, 'longitude': -122.39300568626936}, {'latitude': 37.782589, 'longitude': -122.4718603}, {'latitude': 37.7732674, 'longitude': -122.472319}, {'latitude': 37.7543047, 'longitude': -122.4785927}, {'latitude': 37.7540396, 'longitude': -122.4840403}, {'latitude': 37.7522965, 'longitude': -122.4196276}, {'latitude': 37.7539295, 'longitude': -122.4883438}, {'latitude': 37.7628993, 'longitude': -122.4953893}, {'latitude': 37.77830259472109, 'longitude': -122.42645613156893}, {'latitude': 37.7626492, 'longitude': -122.5007785}, {'latitude': 37.7589001, 'longitude': -122.4951291}, {'latitude': 37.76373248226514, 'longitude': -122.47522042021012}, {'latitude': 37.76349722249423, 'longitude': -122.47632622718812}, {'latitude': 37.763874, 'longitude': -122.509526}, {'latitude': 37.77691062512612, 'longitude': -122.42463177946529}]}\n",
            "{'authenticationResultCode': 'NoCredentials', 'brandLogoUri': 'http://dev.virtualearth.net/Branding/logo_powered_by.png', 'copyright': 'Copyright © 2023 Microsoft and its suppliers. All rights reserved. This API cannot be accessed and the content and any results may not be used, reproduced or transmitted in any manner without express written permission from Microsoft Corporation.', 'errorDetails': ['Access was denied. You may have entered your credentials incorrectly, or you might not have access to the requested resource or operation.'], 'resourceSets': [], 'statusCode': 401, 'statusDescription': 'Unauthorized', 'traceId': '6fbd8543091a4ecaab7a396a75156ffd|BN0000642B|0.0.0.0'}\n"
          ]
        }
      ]
    },
    {
      "cell_type": "code",
      "source": [
        "print(response_data)\n",
        "# Get the driving distances\n",
        "distances = response_data[\"resourceSets\"][0][\"resources\"][0][\"results\"]\n",
        "\n",
        "# Add the driving distances to the station DataFrame\n",
        "san_francisco_df[\"driving_distance\"] = [result[\"travelDistance\"] for result in distances]\n",
        "\n",
        "# Find the station with the smallest driving distance\n",
        "min_distance_station = san_francisco_df.loc[san_francisco_df[\"driving_distance\"].idxmin()]\n",
        "\n",
        "# Print the result\n",
        "print(f\"The station closest to Coit Tower is '{min_distance_station['name']}' with a driving distance of {min_distance_station['driving_distance']} miles.\")"
      ],
      "metadata": {
        "colab": {
          "base_uri": "https://localhost:8080/",
          "height": 272
        },
        "id": "fz7aPcaykfWq",
        "outputId": "a15c6601-fe46-408f-a471-f54d8c9a83f3"
      },
      "execution_count": 69,
      "outputs": [
        {
          "output_type": "stream",
          "name": "stdout",
          "text": [
            "{'authenticationResultCode': 'NoCredentials', 'brandLogoUri': 'http://dev.virtualearth.net/Branding/logo_powered_by.png', 'copyright': 'Copyright © 2023 Microsoft and its suppliers. All rights reserved. This API cannot be accessed and the content and any results may not be used, reproduced or transmitted in any manner without express written permission from Microsoft Corporation.', 'errorDetails': ['Access was denied. You may have entered your credentials incorrectly, or you might not have access to the requested resource or operation.'], 'resourceSets': [], 'statusCode': 401, 'statusDescription': 'Unauthorized', 'traceId': 'b2f95c2f066a493498bed11fc99d5c26|BN00006424|0.0.0.0'}\n"
          ]
        },
        {
          "output_type": "error",
          "ename": "IndexError",
          "evalue": "ignored",
          "traceback": [
            "\u001b[0;31m---------------------------------------------------------------------------\u001b[0m",
            "\u001b[0;31mIndexError\u001b[0m                                Traceback (most recent call last)",
            "\u001b[0;32m<ipython-input-69-2879292355a9>\u001b[0m in \u001b[0;36m<module>\u001b[0;34m\u001b[0m\n\u001b[1;32m      1\u001b[0m \u001b[0mprint\u001b[0m\u001b[0;34m(\u001b[0m\u001b[0mresponse_data\u001b[0m\u001b[0;34m)\u001b[0m\u001b[0;34m\u001b[0m\u001b[0;34m\u001b[0m\u001b[0m\n\u001b[1;32m      2\u001b[0m \u001b[0;31m# Get the driving distances\u001b[0m\u001b[0;34m\u001b[0m\u001b[0;34m\u001b[0m\u001b[0;34m\u001b[0m\u001b[0m\n\u001b[0;32m----> 3\u001b[0;31m \u001b[0mdistances\u001b[0m \u001b[0;34m=\u001b[0m \u001b[0mresponse_data\u001b[0m\u001b[0;34m[\u001b[0m\u001b[0;34m\"resourceSets\"\u001b[0m\u001b[0;34m]\u001b[0m\u001b[0;34m[\u001b[0m\u001b[0;36m0\u001b[0m\u001b[0;34m]\u001b[0m\u001b[0;34m[\u001b[0m\u001b[0;34m\"resources\"\u001b[0m\u001b[0;34m]\u001b[0m\u001b[0;34m[\u001b[0m\u001b[0;36m0\u001b[0m\u001b[0;34m]\u001b[0m\u001b[0;34m[\u001b[0m\u001b[0;34m\"results\"\u001b[0m\u001b[0;34m]\u001b[0m\u001b[0;34m\u001b[0m\u001b[0;34m\u001b[0m\u001b[0m\n\u001b[0m\u001b[1;32m      4\u001b[0m \u001b[0;34m\u001b[0m\u001b[0m\n\u001b[1;32m      5\u001b[0m \u001b[0;31m# Add the driving distances to the station DataFrame\u001b[0m\u001b[0;34m\u001b[0m\u001b[0;34m\u001b[0m\u001b[0;34m\u001b[0m\u001b[0m\n",
            "\u001b[0;31mIndexError\u001b[0m: list index out of range"
          ]
        }
      ]
    },
    {
      "cell_type": "markdown",
      "source": [
        "For some reason, I can not get this API to run. I have read the documentation and am still stuck. Will consult with my team about this."
      ],
      "metadata": {
        "id": "zjvxIDJAnxe6"
      }
    },
    {
      "cell_type": "markdown",
      "metadata": {
        "id": "akBCRrv8VeRT"
      },
      "source": [
        "## Submission Instructions\n",
        "\n",
        "- Copy this notebook to your own Drive, if you have not already.\n",
        "- Restart this notebook and run the cells from beginning to end. \n",
        "  - Go to Runtime > Restart and Run All.\n",
        "- Rename this notebook by clicking on \"DATA 301 Lab 6B - YOUR NAMES HERE\" at the very top of this page. Replace \"YOUR NAMES HERE\" with the first and last names of you (and your partners, for Phase 2).\n",
        "- Get the link to your notebook:\n",
        "  - Click on \"Share\" at the top-right. \n",
        "  - Change the settings to \"Anyone with the link can view\". \n",
        "  - Copy the sharing link into Canvas."
      ]
    }
  ]
}